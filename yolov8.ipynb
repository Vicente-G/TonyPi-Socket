{
  "cells": [
    {
      "cell_type": "markdown",
      "metadata": {
        "id": "QHKm7CWqYxvn"
      },
      "source": [
        "# YOLOv8 Training"
      ]
    },
    {
      "cell_type": "markdown",
      "metadata": {
        "id": "VbKAoO5kZI6g"
      },
      "source": [
        "## Dependencies Install"
      ]
    },
    {
      "cell_type": "code",
      "execution_count": null,
      "metadata": {
        "colab": {
          "base_uri": "https://localhost:8080/"
        },
        "id": "pfJrUfekZIiA",
        "outputId": "645ba50a-0d4f-47e5-89f4-3c48add6ef25"
      },
      "outputs": [],
      "source": [
        "%pip install -q ultralytics\n",
        "%pip install -q roboflow"
      ]
    },
    {
      "cell_type": "markdown",
      "metadata": {
        "id": "n_SKsUDOZAMa"
      },
      "source": [
        "## Roboflow Credentials"
      ]
    },
    {
      "cell_type": "code",
      "execution_count": null,
      "metadata": {
        "id": "XhFkMWHjY_dA"
      },
      "outputs": [],
      "source": [
        "API_ID = \"\" # Ingresa tu ID aqui\n",
        "WS = \"universidad-de-ohiggins\"\n",
        "DATASET = \"tonypi\"\n",
        "VERSION = 6"
      ]
    },
    {
      "cell_type": "markdown",
      "metadata": {
        "id": "tlriTHA7ZFOT"
      },
      "source": [
        "## Dataset Download"
      ]
    },
    {
      "cell_type": "code",
      "execution_count": null,
      "metadata": {
        "colab": {
          "base_uri": "https://localhost:8080/"
        },
        "id": "yY8uBvQnYv-2",
        "outputId": "c46b1782-509e-4f14-9bec-562cbf6a06ca"
      },
      "outputs": [],
      "source": [
        "import os\n",
        "from roboflow import Roboflow\n",
        "\n",
        "os.environ[\"DATASET_DIR\"] = f\"/content/{DATASET}-{VERSION}\"\n",
        "rf = Roboflow(api_key=API_ID)\n",
        "p = rf.workspace(WS).project(DATASET)\n",
        "d = p.version(VERSION).download(\"yolov8\")\n",
        "\n",
        "config = \"\"\n",
        "with open(f\"/content/{DATASET}-{VERSION}/data.yaml\", \"r\") as file:\n",
        "    config = file.read()\n",
        "with open(f\"/content/{DATASET}-{VERSION}/data.yaml\", \"w\") as file:\n",
        "    file.write(config.replace(f\"{DATASET}-{VERSION}/\", \"\"))"
      ]
    },
    {
      "cell_type": "markdown",
      "metadata": {
        "id": "jUam3LUYcNrD"
      },
      "source": [
        "## Model Traininng"
      ]
    },
    {
      "cell_type": "code",
      "execution_count": null,
      "metadata": {
        "colab": {
          "base_uri": "https://localhost:8080/"
        },
        "id": "C1MlgiruaNvX",
        "outputId": "780b4fbd-5c76-4436-f27b-a54dc5dab1d6"
      },
      "outputs": [],
      "source": [
        "!yolo train imgsz=640 batch=16 epochs=120 data=${DATASET_DIR}/data.yaml model=yolov8s.pt"
      ]
    },
    {
      "cell_type": "markdown",
      "metadata": {
        "id": "0gBIBPfRdxIz"
      },
      "source": [
        "## Show Performance"
      ]
    },
    {
      "cell_type": "code",
      "execution_count": null,
      "metadata": {
        "colab": {
          "base_uri": "https://localhost:8080/"
        },
        "id": "kS8btZrkeF7q",
        "outputId": "fbcfb79f-509c-481f-ca03-3adeb1bc22e9"
      },
      "outputs": [],
      "source": [
        "!wget -nv https://raw.githubusercontent.com/Vicente-G/data-mining/main/tonypi.png\n",
        "!yolo mode=predict model=/content/runs/detect/train/weights/best.pt imgsz=1664 conf=0.5 source=tonypi.png"
      ]
    },
    {
      "cell_type": "code",
      "execution_count": null,
      "metadata": {
        "colab": {
          "base_uri": "https://localhost:8080/"
        },
        "id": "_BO2Vy8gd1v4",
        "outputId": "2486892f-3e00-4e59-c81c-6e153c4b3c95"
      },
      "outputs": [],
      "source": [
        "import glob\n",
        "from IPython.display import Image, display\n",
        "\n",
        "for imageName in glob.glob('/content/runs/detect/predict/*.png'):\n",
        "    display(Image(filename=imageName, width=800))\n",
        "    print(\"\\n\")"
      ]
    }
  ],
  "metadata": {
    "accelerator": "GPU",
    "colab": {
      "gpuType": "T4",
      "provenance": []
    },
    "kernelspec": {
      "display_name": "Python 3",
      "name": "python3"
    },
    "language_info": {
      "name": "python"
    }
  },
  "nbformat": 4,
  "nbformat_minor": 0
}
